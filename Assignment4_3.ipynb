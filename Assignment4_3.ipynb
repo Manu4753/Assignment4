{
 "cells": [
  {
   "cell_type": "code",
   "execution_count": 6,
   "metadata": {},
   "outputs": [],
   "source": [
    "myArray = [1,2,3,4,5,6]"
   ]
  },
  {
   "cell_type": "code",
   "execution_count": 7,
   "metadata": {},
   "outputs": [
    {
     "name": "stdout",
     "output_type": "stream",
     "text": [
      "please enter index: 3\n",
      "array value is  4\n"
     ]
    }
   ],
   "source": [
    "try:\n",
    "    x = int(input(\"please enter index: \"))\n",
    "    print(\"array value is \", myArray[x])\n",
    "except IndexError:\n",
    "    print(\"Array out of bound\")\n",
    "    print(\"please chose value less than \",len(myArray))"
   ]
  },
  {
   "cell_type": "code",
   "execution_count": 8,
   "metadata": {},
   "outputs": [
    {
     "name": "stdout",
     "output_type": "stream",
     "text": [
      "please enter index: 4\n",
      "array value is  5\n"
     ]
    }
   ],
   "source": [
    "try:\n",
    "    x = int(input(\"please enter index: \"))\n",
    "    print(\"array value is \", myArray[x])\n",
    "except IndexError:\n",
    "    print(\"Array out of bound\")\n",
    "    print(\"please chose value less than \",len(myArray))"
   ]
  },
  {
   "cell_type": "code",
   "execution_count": null,
   "metadata": {},
   "outputs": [],
   "source": [
    "Write a python module script that contains fib2() method to calculate the\n",
    "\n",
    "    fibonacci series till 1000 and save it as fibo.py.\n",
    "\n",
    "    Note : The module created as fibo.py has to be placed in lib folder\n",
    "\n",
    "    For linux/ubuntu path = /home/anaconda/lib/python3\n"
   ]
  },
  {
   "cell_type": "code",
   "execution_count": 9,
   "metadata": {},
   "outputs": [],
   "source": [
    "def fib2(x):\n",
    "    nterms = x\n",
    "    temp1 = 0\n",
    "    temp2 = 1\n",
    "    count = 0\n",
    "\n",
    "    if nterms <=0:\n",
    "        print(\"plfibease enter positive number\")\n",
    "    elif nterms == 1:\n",
    "        print(\"Fibonacci for 1 is 0\")\n",
    "    else:\n",
    "        print(\"Fibonacci till\",nterms,\" are\")\n",
    "        while count < nterms:\n",
    "            print(temp1, end=' , ')\n",
    "            n = temp1+temp2\n",
    "            temp1 = temp2\n",
    "            temp2 = n\n",
    "            count += 1"
   ]
  },
  {
   "cell_type": "code",
   "execution_count": 10,
   "metadata": {},
   "outputs": [
    {
     "name": "stdout",
     "output_type": "stream",
     "text": [
      "Fibonacci for 1 is 0\n"
     ]
    }
   ],
   "source": [
    "fib2(1)"
   ]
  },
  {
   "cell_type": "code",
   "execution_count": 11,
   "metadata": {},
   "outputs": [
    {
     "name": "stdout",
     "output_type": "stream",
     "text": [
      "Fibonacci till 15  are\n",
      "0 , 1 , 1 , 2 , 3 , 5 , 8 , 13 , 21 , 34 , 55 , 89 , 144 , 233 , 377 , "
     ]
    }
   ],
   "source": [
    "fib2(15)"
   ]
  },
  {
   "cell_type": "code",
   "execution_count": null,
   "metadata": {},
   "outputs": [],
   "source": [
    "Write a python module script that contains ispalindrome() method to\n",
    "calculate the input string as palindrome string or not and save it as\n",
    "palindrome.py"
   ]
  },
  {
   "cell_type": "code",
   "execution_count": 15,
   "metadata": {},
   "outputs": [],
   "source": [
    "def ispalindrome():\n",
    "    x = input(\"please input a string : \")\n",
    "    if x[::-1] == x:\n",
    "        print(\"give string \",x, \"is palindrome\")\n",
    "    else:\n",
    "        print(\"give string \",x, \"is not palindrome\")"
   ]
  },
  {
   "cell_type": "code",
   "execution_count": 16,
   "metadata": {},
   "outputs": [
    {
     "name": "stdout",
     "output_type": "stream",
     "text": [
      "please input a string : manu\n",
      "give string  manu is not palindrome\n"
     ]
    }
   ],
   "source": [
    "ispalindrome()"
   ]
  },
  {
   "cell_type": "code",
   "execution_count": null,
   "metadata": {},
   "outputs": [],
   "source": []
  }
 ],
 "metadata": {
  "kernelspec": {
   "display_name": "Python 3",
   "language": "python",
   "name": "python3"
  },
  "language_info": {
   "codemirror_mode": {
    "name": "ipython",
    "version": 3
   },
   "file_extension": ".py",
   "mimetype": "text/x-python",
   "name": "python",
   "nbconvert_exporter": "python",
   "pygments_lexer": "ipython3",
   "version": "3.7.1"
  }
 },
 "nbformat": 4,
 "nbformat_minor": 2
}
